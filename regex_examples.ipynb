{
 "cells": [
  {
   "cell_type": "code",
   "execution_count": 2,
   "metadata": {
    "collapsed": false
   },
   "outputs": [
    {
     "name": "stdout",
     "output_type": "stream",
     "text": [
      "문자열 결과: ['58', '60', '48']\n",
      "파일 처리 결과: ['58', '60', '48']\n"
     ]
    }
   ],
   "source": [
    "import re\n",
    "\n",
    "data = \"나의 몸무게는 58kg이다. 아버지의 몸무게는 60kg이다. 어머님의 몸무게는 48kg이시다.\"\n",
    "\n",
    "with open('data.txt') as f:\n",
    "    data_from_file = f.read()\n",
    "\n",
    "pattern = re.compile(r'(\\d*)kg')\n",
    "\n",
    "result = pattern.findall(data)\n",
    "result_file = pattern.findall(data_from_file)\n",
    "\n",
    "print('문자열 결과:',result)\n",
    "print('파일 처리 결과:', result_file)\n"
   ]
  },
  {
   "cell_type": "code",
   "execution_count": null,
   "metadata": {
    "collapsed": true
   },
   "outputs": [],
   "source": []
  }
 ],
 "metadata": {
  "kernelspec": {
   "display_name": "Python (custom)",
   "language": "python",
   "name": "python3-custom"
  },
  "language_info": {
   "codemirror_mode": {
    "name": "ipython",
    "version": 3
   },
   "file_extension": ".py",
   "mimetype": "text/x-python",
   "name": "python",
   "nbconvert_exporter": "python",
   "pygments_lexer": "ipython3",
   "version": "3.5.1"
  }
 },
 "nbformat": 4,
 "nbformat_minor": 2
}
