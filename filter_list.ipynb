{
 "cells": [
  {
   "cell_type": "markdown",
   "metadata": {},
   "source": [
    "# list filtering 하기"
   ]
  },
  {
   "cell_type": "markdown",
   "metadata": {},
   "source": [
    "- web_gui.py에서 data_parse.py는 다음과 같은 output을 냅니다\n",
    "\n",
    "wordcloud_list('v30.csv')\n",
    ">[['케이스', 175],\n",
    " ['폰', 131],\n",
    " ['아이폰', 114],\n",
    " ['시', 114],\n",
    " ['개', 113],\n",
    " ['문의', 112],\n",
    " ['사진', 95],\n",
    " ['그램', 93], ... ]\n",
    "\n",
    "- 2가지 방법으로 '개' 라는 검색어를 걸러봅시다.\n",
    "\n",
    "\n",
    "### if문을 사용.\n"
   ]
  },
  {
   "cell_type": "code",
   "execution_count": 1,
   "metadata": {
    "collapsed": false
   },
   "outputs": [
    {
     "name": "stdout",
     "output_type": "stream",
     "text": [
      "[['케이스', 175], ['폰', 131], ['아이폰', 114], ['시', 114], ['문의', 112]]\n"
     ]
    }
   ],
   "source": [
    "\n",
    "raw_data = [['케이스', 175], ['폰', 131], ['아이폰', 114], ['시', 114], ['개', 113], ['문의', 112] ]\n",
    "filtered_data = []\n",
    "\n",
    "for item in raw_data:\n",
    "    if item[0] != '개':\n",
    "        filtered_data.append(item)\n",
    "\n",
    "print(filtered_data)\n",
    "\n"
   ]
  },
  {
   "cell_type": "markdown",
   "metadata": {},
   "source": [
    "### filter 함수를 사용\n",
    "\n",
    "\n",
    "\n"
   ]
  },
  {
   "cell_type": "code",
   "execution_count": 4,
   "metadata": {
    "collapsed": false
   },
   "outputs": [
    {
     "name": "stdout",
     "output_type": "stream",
     "text": [
      "[['케이스', 175], ['폰', 131], ['아이폰', 114], ['시', 114], ['문의', 112]]\n"
     ]
    }
   ],
   "source": [
    "def filter_dog(item):\n",
    "    return item[0] != '개'\n",
    "\n",
    "another_filtered_data = list(filter(filter_dog,raw_data))\n",
    "print(another_filtered_data)"
   ]
  },
  {
   "cell_type": "markdown",
   "metadata": {},
   "source": [
    "### (응용)2글자 이상의 글자만 골라내기\n",
    "\n",
    "more_then"
   ]
  }
 ],
 "metadata": {
  "kernelspec": {
   "display_name": "Python (custom)",
   "language": "python",
   "name": "python3-custom"
  },
  "language_info": {
   "codemirror_mode": {
    "name": "ipython",
    "version": 3
   },
   "file_extension": ".py",
   "mimetype": "text/x-python",
   "name": "python",
   "nbconvert_exporter": "python",
   "pygments_lexer": "ipython3",
   "version": "3.5.1"
  }
 },
 "nbformat": 4,
 "nbformat_minor": 2
}
